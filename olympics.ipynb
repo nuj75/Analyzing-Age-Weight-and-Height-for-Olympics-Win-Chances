{
  "nbformat": 4,
  "nbformat_minor": 0,
  "metadata": {
    "colab": {
      "provenance": []
    },
    "kernelspec": {
      "name": "python3",
      "display_name": "Python 3"
    },
    "language_info": {
      "name": "python"
    }
  },
  "cells": [
    {
      "cell_type": "markdown",
      "source": [
        "# In this notebook, we explore the relationships between age, height, and weight with the likelihood that an athlete will win an Olympic competition.  "
      ],
      "metadata": {
        "id": "DLBU565gahFR"
      }
    },
    {
      "cell_type": "code",
      "execution_count": 4,
      "metadata": {
        "id": "hHRPJuYvnGub"
      },
      "outputs": [],
      "source": [
        "import numpy as np\n",
        "import pandas as pd\n",
        "import matplotlib.pyplot as plt\n",
        "from sklearn.model_selection import train_test_split\n",
        "from sklearn.ensemble import RandomForestClassifier\n",
        "\n",
        "from sklearn.model_selection import train_test_split\n",
        "from sklearn.linear_model import LogisticRegression\n",
        "from sklearn.metrics import accuracy_score\n",
        "\n"
      ]
    },
    {
      "cell_type": "markdown",
      "source": [
        "We first extract data from the CSV file. We first delete rows which have null entries for the age, weight, or height columns. We then compile a set of sports that are usable."
      ],
      "metadata": {
        "id": "rKp0a89eaeon"
      }
    },
    {
      "cell_type": "code",
      "source": [
        "data = pd.read_csv('Olympics2021.csv')\n",
        "\n",
        "df = pd.DataFrame(data)\n",
        "\n",
        "\n",
        "df = df[df['Height'].notnull()]\n",
        "df = df[df['Weight'].notnull()]\n",
        "df = df[df['Age'].notnull()]\n",
        "\n",
        "sports = set(df['Sport'])"
      ],
      "metadata": {
        "id": "kQIN64CURy52",
        "colab": {
          "base_uri": "https://localhost:8080/"
        },
        "outputId": "b306dbc2-c593-49b0-eac9-c24e06a89259"
      },
      "execution_count": 9,
      "outputs": [
        {
          "output_type": "stream",
          "name": "stdout",
          "text": [
            "set()\n"
          ]
        }
      ]
    },
    {
      "cell_type": "markdown",
      "source": [
        "We filter the data by competition and sex. After formatting the x and y entries, the data is passed into a logistic regression."
      ],
      "metadata": {
        "id": "BaqdYMYG_Q_b"
      }
    },
    {
      "cell_type": "code",
      "source": [
        "def formatter(x):\n",
        "  try:\n",
        "    return int(x)\n",
        "  except:\n",
        "    return int(x[:x.find(\"-\")])\n",
        "\n",
        "for sport in sports:\n",
        "  for sex in ['M', 'F']:\n",
        "    filtered_df = df.query(\"Sport == '\" + sport + \"' & Sex == '\"+ sex +\"'\")\n",
        "\n",
        "    filtered_df.loc[:, 'Weight'] = filtered_df['Weight'].apply(formatter)\n",
        "\n",
        "\n",
        "    x = filtered_df[['Age', 'Height', 'Weight']]\n",
        "    y_one = pd.DataFrame()\n",
        "\n",
        "    y_one[\"label\"] = filtered_df['Medal'].apply(lambda x: 1 if x == 'Bronze' or x == 'Silver' or x == 'Gold' else 0)\n",
        "\n",
        "    y = y_one.to_numpy()\n",
        "    y = y.ravel()\n",
        "\n",
        "    if len(y) > 50 and np.any(y == 1) and np.any(y == 0):\n",
        "      X_train, X_test, y_train, y_test = train_test_split(x, y, test_size=0.3, random_state=42)\n",
        "\n",
        "\n",
        "      model = LogisticRegression()\n",
        "\n",
        "\n",
        "      model.fit(X_train, y_train)\n",
        "\n",
        "      y_pred = model.predict(X_test)\n",
        "\n",
        "      accuracy = accuracy_score(y_test, y_pred)\n",
        "\n",
        "\n",
        "      print(f\"{sport} {sex}, Coefficients: {model.coef_}, Model Accuracy: {accuracy}\")\n",
        "\n",
        "\n",
        "\n",
        "\n",
        "\n",
        "\n",
        "\n"
      ],
      "metadata": {
        "id": "kbsQXEB9SoNj",
        "colab": {
          "base_uri": "https://localhost:8080/"
        },
        "outputId": "3b68b0ae-ed09-4215-f36e-5ed3a7153594"
      },
      "execution_count": 11,
      "outputs": [
        {
          "output_type": "stream",
          "name": "stdout",
          "text": [
            "Football M, Coefficients: [[-0.13287837  0.14999418 -0.10523698]], Model Accuracy: 0.5789473684210527\n",
            "Football F, Coefficients: [[ 0.08499181 -0.15926932  0.2502858 ]], Model Accuracy: 0.6388888888888888\n",
            "Table Tennis M, Coefficients: [[-0.08290395 -0.08769887  0.02895855]], Model Accuracy: 0.84\n",
            "Table Tennis F, Coefficients: [[-0.21692871 -0.19477148 -0.12784757]], Model Accuracy: 0.9166666666666666\n",
            "Rowing M, Coefficients: [[-0.05220198 -0.09355564  0.01928158]], Model Accuracy: 0.5428571428571428\n",
            "Rowing F, Coefficients: [[-0.07612992 -0.02730287  0.08352551]], Model Accuracy: 0.6551724137931034\n",
            "Fencing M, Coefficients: [[ 0.06091175  0.02102989 -0.0858476 ]], Model Accuracy: 0.7586206896551724\n",
            "Fencing F, Coefficients: [[ 0.19090455  0.11227426 -0.10219386]], Model Accuracy: 0.6666666666666666\n",
            "Sailing M, Coefficients: [[-0.04519418  0.04173965 -0.04158381]], Model Accuracy: 0.9666666666666667\n",
            "Sailing F, Coefficients: [[ 0.02653654 -0.02110006  0.01660687]], Model Accuracy: 0.782608695652174\n",
            "Tennis M, Coefficients: [[-0.12601839  0.05296263 -0.10614256]], Model Accuracy: 0.8181818181818182\n",
            "Tennis F, Coefficients: [[-0.13626528 -0.01254893 -0.03509098]], Model Accuracy: 0.95\n",
            "Cycling Road M, Coefficients: [[-0.05702833  0.02207901  0.06615527]], Model Accuracy: 1.0\n",
            "Rugby Sevens F, Coefficients: [[ 0.40084007  0.0803636  -0.10616978]], Model Accuracy: 0.7083333333333334\n",
            "Judo M, Coefficients: [[-0.08254432 -0.03356074  0.02281009]], Model Accuracy: 0.7222222222222222\n",
            "Judo F, Coefficients: [[-0.23012041 -0.0721085   0.04580329]], Model Accuracy: 0.6666666666666666\n",
            "Volleyball M, Coefficients: [[-0.10739179 -0.03914353  0.07997197]], Model Accuracy: 0.6956521739130435\n",
            "Volleyball F, Coefficients: [[ 0.03834806 -0.06731566  0.1067806 ]], Model Accuracy: 0.6666666666666666\n",
            "Water Polo M, Coefficients: [[-0.13754789  0.09608184 -0.03450195]], Model Accuracy: 0.52\n",
            "Water Polo F, Coefficients: [[-0.13513576  0.17253767 -0.05302459]], Model Accuracy: 0.5625\n",
            "Wrestling M, Coefficients: [[-0.05969159  0.06218018 -0.00117877]], Model Accuracy: 0.6666666666666666\n",
            "Hockey M, Coefficients: [[-0.14709719  0.00859925 -0.03816644]], Model Accuracy: 0.6896551724137931\n",
            "Hockey F, Coefficients: [[0.24418794 0.00893001 0.05342314]], Model Accuracy: 0.7037037037037037\n",
            "Archery M, Coefficients: [[ 0.25474516 -0.1472294   0.07523084]], Model Accuracy: 0.65\n",
            "Archery F, Coefficients: [[0.00757981 0.05494978 0.0999171 ]], Model Accuracy: 0.8947368421052632\n",
            "Artistic Gymnastics M, Coefficients: [[-0.0338454  -0.10300642  0.03014611]], Model Accuracy: 0.9104477611940298\n",
            "Artistic Gymnastics F, Coefficients: [[-0.39007179 -0.14630757  0.06857514]], Model Accuracy: 0.8372093023255814\n",
            "Canoe Sprint M, Coefficients: [[-0.079045   -0.03574785  0.04255762]], Model Accuracy: 0.6206896551724138\n",
            "Canoe Sprint F, Coefficients: [[ 0.05025199 -0.06367032  0.11569859]], Model Accuracy: 0.7666666666666667\n",
            "Weightlifting M, Coefficients: [[-0.08243479  0.05570915  0.01896974]], Model Accuracy: 0.8888888888888888\n",
            "Artistic Swimming F, Coefficients: [[ 0.43228554 -0.07825786  0.01701864]], Model Accuracy: 0.7647058823529411\n",
            "Shooting M, Coefficients: [[ 0.04063612  0.05222789 -0.01407141]], Model Accuracy: 0.8888888888888888\n",
            "Shooting F, Coefficients: [[-0.04171111 -0.00486614  0.00415136]], Model Accuracy: 0.8611111111111112\n",
            "Beach Volleyball M, Coefficients: [[-0.97330572  0.10374525 -0.07538531]], Model Accuracy: 0.9411764705882353\n",
            "Handball M, Coefficients: [[0.25387392 0.01164632 0.02561829]], Model Accuracy: 0.6923076923076923\n",
            "Handball F, Coefficients: [[ 0.10427429 -0.01442387 -0.02590208]], Model Accuracy: 0.7692307692307693\n",
            "Athletics M, Coefficients: [[-0.0170389   0.04354208 -0.00261032]], Model Accuracy: 0.9072847682119205\n",
            "Athletics F, Coefficients: [[-0.05617206 -0.00042326 -0.00054174]], Model Accuracy: 0.8940397350993378\n",
            "Boxing M, Coefficients: [[-0.00325058  0.13547513 -0.01441709]], Model Accuracy: 0.7222222222222222\n",
            "Basketball M, Coefficients: [[-0.04082495 -0.11747185  0.04624347]], Model Accuracy: 0.5294117647058824\n",
            "Basketball F, Coefficients: [[-0.0038816  -0.12110666  0.06664214]], Model Accuracy: 0.47058823529411764\n",
            "Swimming M, Coefficients: [[-0.06535417  0.04537613  0.03144666]], Model Accuracy: 0.8925619834710744\n",
            "Swimming F, Coefficients: [[ 0.02622571  0.19470394 -0.13157579]], Model Accuracy: 0.868421052631579\n",
            "Cycling Track M, Coefficients: [[-0.13776649 -0.05999229 -0.00714056]], Model Accuracy: 0.8333333333333334\n",
            "Cycling Track F, Coefficients: [[-0.06596358  0.14933059 -0.01707644]], Model Accuracy: 0.6666666666666666\n"
          ]
        }
      ]
    },
    {
      "cell_type": "markdown",
      "source": [
        "Since the 2024 Olympics participant stats haven't been released, we decided to analyze the models that were trained on each set of data.\n",
        "\n",
        "Findings:\n",
        "- Height, weight, and age are significant in sports like men's road cycling, women's tennis, and men's sailing. The model is confident in predicting whether someone won based on their age, weight, and height.\n",
        "- Some magnitudes for coefficients are irregularly high, likely indicating which attributes are important to your chances of winning the particular sport.\n",
        "- Being older is quite important to your chances in winning for men's handball, women's hockey, and women's artistic gymnastics. Being young is quite important to your chances of winning men's beach volleyball.\n",
        "- It is particularly important to be tall in women's swimming.\n",
        "- It is particularly important to be heavy in women's football.  "
      ],
      "metadata": {
        "id": "CTTHx1fXc7js"
      }
    }
  ]
}